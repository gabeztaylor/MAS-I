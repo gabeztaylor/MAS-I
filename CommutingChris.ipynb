{
 "cells": [
  {
   "cell_type": "code",
   "execution_count": 3,
   "metadata": {},
   "outputs": [],
   "source": [
    "import pandas as pd\n",
    "import numpy as np\n",
    "import matplotlib.pyplot as plt\n",
    "import seaborn as sns"
   ]
  },
  {
   "cell_type": "code",
   "execution_count": 4,
   "metadata": {},
   "outputs": [],
   "source": [
    "data = pd.read_csv(\"/Users/gabrieltaylor/Downloads/Commute-data.csv\")"
   ]
  },
  {
   "cell_type": "code",
   "execution_count": 5,
   "metadata": {},
   "outputs": [
    {
     "data": {
      "text/html": [
       "<div>\n",
       "<style scoped>\n",
       "    .dataframe tbody tr th:only-of-type {\n",
       "        vertical-align: middle;\n",
       "    }\n",
       "\n",
       "    .dataframe tbody tr th {\n",
       "        vertical-align: top;\n",
       "    }\n",
       "\n",
       "    .dataframe thead th {\n",
       "        text-align: right;\n",
       "    }\n",
       "</style>\n",
       "<table border=\"1\" class=\"dataframe\">\n",
       "  <thead>\n",
       "    <tr style=\"text-align: right;\">\n",
       "      <th></th>\n",
       "      <th>Commute</th>\n",
       "      <th>Departure</th>\n",
       "      <th>Temp</th>\n",
       "      <th>Precip Chance</th>\n",
       "      <th>Precip</th>\n",
       "      <th>Season</th>\n",
       "      <th>Accident</th>\n",
       "      <th>Police</th>\n",
       "    </tr>\n",
       "  </thead>\n",
       "  <tbody>\n",
       "    <tr>\n",
       "      <th>0</th>\n",
       "      <td>24.283333</td>\n",
       "      <td>9.250000</td>\n",
       "      <td>31.5</td>\n",
       "      <td>48.0</td>\n",
       "      <td>No</td>\n",
       "      <td>Winter</td>\n",
       "      <td>No</td>\n",
       "      <td>1</td>\n",
       "    </tr>\n",
       "    <tr>\n",
       "      <th>1</th>\n",
       "      <td>21.433333</td>\n",
       "      <td>13.183333</td>\n",
       "      <td>32.5</td>\n",
       "      <td>40.7</td>\n",
       "      <td>No</td>\n",
       "      <td>Winter</td>\n",
       "      <td>No</td>\n",
       "      <td>1</td>\n",
       "    </tr>\n",
       "    <tr>\n",
       "      <th>2</th>\n",
       "      <td>31.483333</td>\n",
       "      <td>6.683333</td>\n",
       "      <td>19.3</td>\n",
       "      <td>84.6</td>\n",
       "      <td>Yes</td>\n",
       "      <td>Winter</td>\n",
       "      <td>No</td>\n",
       "      <td>1</td>\n",
       "    </tr>\n",
       "    <tr>\n",
       "      <th>3</th>\n",
       "      <td>23.650000</td>\n",
       "      <td>14.183333</td>\n",
       "      <td>35.0</td>\n",
       "      <td>66.7</td>\n",
       "      <td>No</td>\n",
       "      <td>Winter</td>\n",
       "      <td>No</td>\n",
       "      <td>0</td>\n",
       "    </tr>\n",
       "    <tr>\n",
       "      <th>4</th>\n",
       "      <td>26.633333</td>\n",
       "      <td>12.433333</td>\n",
       "      <td>29.7</td>\n",
       "      <td>58.8</td>\n",
       "      <td>Yes</td>\n",
       "      <td>Winter</td>\n",
       "      <td>No</td>\n",
       "      <td>1</td>\n",
       "    </tr>\n",
       "    <tr>\n",
       "      <th>...</th>\n",
       "      <td>...</td>\n",
       "      <td>...</td>\n",
       "      <td>...</td>\n",
       "      <td>...</td>\n",
       "      <td>...</td>\n",
       "      <td>...</td>\n",
       "      <td>...</td>\n",
       "      <td>...</td>\n",
       "    </tr>\n",
       "    <tr>\n",
       "      <th>95</th>\n",
       "      <td>28.666667</td>\n",
       "      <td>9.016667</td>\n",
       "      <td>29.6</td>\n",
       "      <td>96.0</td>\n",
       "      <td>Yes</td>\n",
       "      <td>Fall</td>\n",
       "      <td>No</td>\n",
       "      <td>1</td>\n",
       "    </tr>\n",
       "    <tr>\n",
       "      <th>96</th>\n",
       "      <td>25.066667</td>\n",
       "      <td>14.133333</td>\n",
       "      <td>27.5</td>\n",
       "      <td>63.0</td>\n",
       "      <td>Yes</td>\n",
       "      <td>Fall</td>\n",
       "      <td>No</td>\n",
       "      <td>1</td>\n",
       "    </tr>\n",
       "    <tr>\n",
       "      <th>97</th>\n",
       "      <td>25.700000</td>\n",
       "      <td>11.166667</td>\n",
       "      <td>30.2</td>\n",
       "      <td>89.7</td>\n",
       "      <td>Yes</td>\n",
       "      <td>Fall</td>\n",
       "      <td>No</td>\n",
       "      <td>1</td>\n",
       "    </tr>\n",
       "    <tr>\n",
       "      <th>98</th>\n",
       "      <td>25.266667</td>\n",
       "      <td>14.733333</td>\n",
       "      <td>20.9</td>\n",
       "      <td>97.2</td>\n",
       "      <td>Yes</td>\n",
       "      <td>Fall</td>\n",
       "      <td>No</td>\n",
       "      <td>1</td>\n",
       "    </tr>\n",
       "    <tr>\n",
       "      <th>99</th>\n",
       "      <td>32.566667</td>\n",
       "      <td>12.000000</td>\n",
       "      <td>20.0</td>\n",
       "      <td>98.4</td>\n",
       "      <td>Yes</td>\n",
       "      <td>Fall</td>\n",
       "      <td>Yes</td>\n",
       "      <td>4</td>\n",
       "    </tr>\n",
       "  </tbody>\n",
       "</table>\n",
       "<p>100 rows × 8 columns</p>\n",
       "</div>"
      ],
      "text/plain": [
       "      Commute  Departure  Temp  Precip Chance Precip  Season Accident  Police\n",
       "0   24.283333   9.250000  31.5           48.0     No  Winter       No       1\n",
       "1   21.433333  13.183333  32.5           40.7     No  Winter       No       1\n",
       "2   31.483333   6.683333  19.3           84.6    Yes  Winter       No       1\n",
       "3   23.650000  14.183333  35.0           66.7     No  Winter       No       0\n",
       "4   26.633333  12.433333  29.7           58.8    Yes  Winter       No       1\n",
       "..        ...        ...   ...            ...    ...     ...      ...     ...\n",
       "95  28.666667   9.016667  29.6           96.0    Yes    Fall       No       1\n",
       "96  25.066667  14.133333  27.5           63.0    Yes    Fall       No       1\n",
       "97  25.700000  11.166667  30.2           89.7    Yes    Fall       No       1\n",
       "98  25.266667  14.733333  20.9           97.2    Yes    Fall       No       1\n",
       "99  32.566667  12.000000  20.0           98.4    Yes    Fall      Yes       4\n",
       "\n",
       "[100 rows x 8 columns]"
      ]
     },
     "execution_count": 5,
     "metadata": {},
     "output_type": "execute_result"
    }
   ],
   "source": [
    "data"
   ]
  },
  {
   "cell_type": "code",
   "execution_count": 6,
   "metadata": {},
   "outputs": [
    {
     "data": {
      "text/plain": [
       "<matplotlib.axes._subplots.AxesSubplot at 0x7f912445dc90>"
      ]
     },
     "execution_count": 6,
     "metadata": {},
     "output_type": "execute_result"
    },
    {
     "data": {
      "image/png": "[encoded data removed]",
      "text/plain": [
       "<Figure size 432x288 with 1 Axes>"
      ]
     },
     "metadata": {
      "needs_background": "light"
     },
     "output_type": "display_data"
    }
   ],
   "source": [
    "sns.kdeplot('Commute', data = data)"
   ]
  },
  {
   "cell_type": "markdown",
   "metadata": {},
   "source": [
    "## Ridge Regression"
   ]
  },
  {
   "cell_type": "code",
   "execution_count": 12,
   "metadata": {},
   "outputs": [],
   "source": [
    "ridge_df = pd.get_dummies(data.drop('Season', axis = 1), drop_first = True)"
   ]
  },
  {
   "cell_type": "code",
   "execution_count": 13,
   "metadata": {},
   "outputs": [],
   "source": [
    "from sklearn.linear_model import Ridge"
   ]
  },
  {
   "cell_type": "code",
   "execution_count": 21,
   "metadata": {},
   "outputs": [
    {
     "data": {
      "text/plain": [
       "Ridge(alpha=0.01, copy_X=True, fit_intercept=True, max_iter=None,\n",
       "      normalize=True, random_state=None, solver='auto', tol=0.001)"
      ]
     },
     "execution_count": 21,
     "metadata": {},
     "output_type": "execute_result"
    }
   ],
   "source": [
    "X = np.array(ridge_df.drop('Commute', axis = 1))\n",
    "y = np.array(ridge_df['Commute']).reshape(-1, 1)\n",
    "lm = Ridge(alpha = 0.01, normalize = True)\n",
    "lm.fit(X, y)"
   ]
  },
  {
   "cell_type": "code",
   "execution_count": 22,
   "metadata": {},
   "outputs": [
    {
     "data": {
      "text/plain": [
       "array([[-0.58289886, -0.01097352,  0.0202754 ,  0.09762257,  3.51880713,\n",
       "         9.7360515 ]])"
      ]
     },
     "execution_count": 22,
     "metadata": {},
     "output_type": "execute_result"
    }
   ],
   "source": [
    "lm.coef_"
   ]
  },
  {
   "cell_type": "markdown",
   "metadata": {},
   "source": [
    "## LASSO Regression"
   ]
  },
  {
   "cell_type": "code",
   "execution_count": 25,
   "metadata": {},
   "outputs": [],
   "source": [
    "lasso_df = pd.get_dummies(data.drop('Season', axis = 1), drop_first = True)"
   ]
  },
  {
   "cell_type": "code",
   "execution_count": 27,
   "metadata": {},
   "outputs": [],
   "source": [
    "from sklearn.linear_model import Lasso"
   ]
  },
  {
   "cell_type": "code",
   "execution_count": 28,
   "metadata": {},
   "outputs": [
    {
     "data": {
      "text/plain": [
       "Lasso(alpha=0.01, copy_X=True, fit_intercept=True, max_iter=1000,\n",
       "      normalize=True, positive=False, precompute=False, random_state=None,\n",
       "      selection='cyclic', tol=0.0001, warm_start=False)"
      ]
     },
     "execution_count": 28,
     "metadata": {},
     "output_type": "execute_result"
    }
   ],
   "source": [
    "X = np.array(lasso_df.drop('Commute', axis = 1))\n",
    "y = np.array(lasso_df['Commute']).reshape(-1, 1)\n",
    "lm = Lasso(alpha = 0.01, normalize = True)\n",
    "lm.fit(X, y)"
   ]
  },
  {
   "cell_type": "code",
   "execution_count": 29,
   "metadata": {},
   "outputs": [
    {
     "data": {
      "text/plain": [
       "array([-5.32208874e-01, -7.70805080e-03,  1.96200218e-02,  0.00000000e+00,\n",
       "        3.44216944e+00,  9.85330219e+00])"
      ]
     },
     "execution_count": 29,
     "metadata": {},
     "output_type": "execute_result"
    }
   ],
   "source": [
    "lm.coef_"
   ]
  },
  {
   "cell_type": "markdown",
   "metadata": {},
   "source": [
    "## Logistic Regression By Hand"
   ]
  },
  {
   "cell_type": "markdown",
   "metadata": {},
   "source": [
    "$$\\hat \\beta ^{(m)} = (X^TW^{m - 1}X)^{-1}X^TW^{m - 1}z^{m - 1}$$\n",
    "\n",
    "$$w_i = \\frac{1}{Var[Y_i] * g'(u_i)^2}$$\n",
    "\n",
    "$$z_i = g(u_i) + (y_i - u_i)g'(u_i)$$"
   ]
  },
  {
   "cell_type": "code",
   "execution_count": 13,
   "metadata": {},
   "outputs": [],
   "source": [
    "log_df = data[['Commute', 'Departure', 'Temp']]\n",
    "log_df.loc[:, 'Commute'] = data.loc[:, 'Commute'].apply(lambda x: 1 if x > 24 else 0)"
   ]
  },
  {
   "cell_type": "code",
   "execution_count": 46,
   "metadata": {},
   "outputs": [],
   "source": [
    "X = np.hstack((np.ones(100).reshape(-1, 1), \n",
    "              np.array(log_df.drop('Commute', 1))))\n",
    "y = np.array(log_df['Commute']).reshape(-1, 1)"
   ]
  },
  {
   "cell_type": "code",
   "execution_count": 36,
   "metadata": {},
   "outputs": [],
   "source": [
    "inv_logit = lambda x: np.exp(x) / (1 + np.exp(x))"
   ]
  },
  {
   "cell_type": "code",
   "execution_count": 37,
   "metadata": {},
   "outputs": [],
   "source": [
    "log_odds_prime = lambda x: 1 / (x - x ** 2)"
   ]
  },
  {
   "cell_type": "code",
   "execution_count": 86,
   "metadata": {},
   "outputs": [],
   "source": [
    "W = np.diag(np.ones(100))"
   ]
  },
  {
   "cell_type": "code",
   "execution_count": 96,
   "metadata": {},
   "outputs": [],
   "source": [
    "counter = 0\n",
    "tol = 1\n",
    "betas = {0: beta0}\n",
    "\n",
    "\n",
    "while tol > 1e-4 and counter < 100:\n",
    "    counter += 1\n",
    "    \n",
    "    XTWX = np.dot(np.dot(X.transpose(), W), X)\n",
    "    XTWX_inv = np.linalg.inv(XTWX)\n",
    "    XTWz = np.dot(np.dot(X.transpose(), W), y)\n",
    "    cur_betas = np.dot(XTWX_inv, XTWz)\n",
    "    \n",
    "    betas[counter] = cur_betas\n",
    "    \n",
    "    np.fill_diagonal(W, 1 / abs(y - np.dot(X, cur_betas)))\n",
    "    \n",
    "    tol = abs(betas[counter] - betas[counter - 1]).sum()"
   ]
  },
  {
   "cell_type": "code",
   "execution_count": 99,
   "metadata": {},
   "outputs": [
    {
     "data": {
      "text/plain": [
       "array([[ 1.59107922],\n",
       "       [-0.01051171],\n",
       "       [-0.02087111]])"
      ]
     },
     "execution_count": 99,
     "metadata": {},
     "output_type": "execute_result"
    }
   ],
   "source": [
    "cur_betas"
   ]
  },
  {
   "cell_type": "code",
   "execution_count": 100,
   "metadata": {},
   "outputs": [],
   "source": [
    "from sklearn.linear_model import LogisticRegression"
   ]
  },
  {
   "cell_type": "code",
   "execution_count": 107,
   "metadata": {},
   "outputs": [],
   "source": [
    "clf = LogisticRegression(random_state=0).fit(X, y.flatten())"
   ]
  },
  {
   "cell_type": "code",
   "execution_count": 110,
   "metadata": {},
   "outputs": [
    {
     "data": {
      "text/plain": [
       "array([[-2.07202751e-07, -1.65554672e-01, -6.01526927e-02]])"
      ]
     },
     "execution_count": 110,
     "metadata": {},
     "output_type": "execute_result"
    }
   ],
   "source": [
    "clf.coef_"
   ]
  }
 ],
 "metadata": {
  "kernelspec": {
   "display_name": "Python 3",
   "language": "python",
   "name": "python3"
  },
  "language_info": {
   "codemirror_mode": {
    "name": "ipython",
    "version": 3
   },
   "file_extension": ".py",
   "mimetype": "text/x-python",
   "name": "python",
   "nbconvert_exporter": "python",
   "pygments_lexer": "ipython3",
   "version": "3.7.6"
  }
 },
 "nbformat": 4,
 "nbformat_minor": 4
}
